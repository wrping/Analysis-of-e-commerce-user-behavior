{
 "cells": [
  {
   "cell_type": "code",
   "execution_count": 1,
   "metadata": {},
   "outputs": [],
   "source": [
    "import pandas as pd\n",
    "import numpy as np\n",
    "import matplotlib.pyplot as plt\n",
    "from datetime import datetime\n",
    "\n",
    "plt.rcParams['font.sans-serif'] = ['SimHei']  #设置中文字体为黑体\n",
    "plt.rcParams['axes.unicode_minus'] = False #正常显示负号\n",
    "\n",
    "pd.set_option('display.float_format',lambda x : '%.2f' % x)#pandas禁用科学计数法\n",
    "\n",
    "#忽略警告\n",
    "import warnings\n",
    "warnings.filterwarnings('ignore')"
   ]
  },
  {
   "cell_type": "markdown",
   "metadata": {},
   "source": [
    "### 1 加载数据"
   ]
  },
  {
   "cell_type": "code",
   "execution_count": 2,
   "metadata": {},
   "outputs": [],
   "source": [
    "data = pd.read_csv('./data.csv',index_col=0,dtype={'category_id':'int64','user_id':'int64'},encoding='utf8')"
   ]
  },
  {
   "cell_type": "code",
   "execution_count": 3,
   "metadata": {},
   "outputs": [
    {
     "data": {
      "text/html": [
       "<div>\n",
       "<style scoped>\n",
       "    .dataframe tbody tr th:only-of-type {\n",
       "        vertical-align: middle;\n",
       "    }\n",
       "\n",
       "    .dataframe tbody tr th {\n",
       "        vertical-align: top;\n",
       "    }\n",
       "\n",
       "    .dataframe thead th {\n",
       "        text-align: right;\n",
       "    }\n",
       "</style>\n",
       "<table border=\"1\" class=\"dataframe\">\n",
       "  <thead>\n",
       "    <tr style=\"text-align: right;\">\n",
       "      <th></th>\n",
       "      <th>event_time</th>\n",
       "      <th>order_id</th>\n",
       "      <th>product_id</th>\n",
       "      <th>category_id</th>\n",
       "      <th>category_code</th>\n",
       "      <th>brand</th>\n",
       "      <th>price</th>\n",
       "      <th>user_id</th>\n",
       "      <th>age</th>\n",
       "      <th>sex</th>\n",
       "      <th>local</th>\n",
       "    </tr>\n",
       "  </thead>\n",
       "  <tbody>\n",
       "    <tr>\n",
       "      <th>0</th>\n",
       "      <td>2020-04-24 11:50:39 UTC</td>\n",
       "      <td>2294359932054536986</td>\n",
       "      <td>1515966223509089906</td>\n",
       "      <td>2268105426648171520</td>\n",
       "      <td>electronics.tablet</td>\n",
       "      <td>samsung</td>\n",
       "      <td>162.01</td>\n",
       "      <td>1515915625441993984</td>\n",
       "      <td>24.00</td>\n",
       "      <td>女</td>\n",
       "      <td>海南</td>\n",
       "    </tr>\n",
       "    <tr>\n",
       "      <th>1</th>\n",
       "      <td>2020-04-24 11:50:39 UTC</td>\n",
       "      <td>2294359932054536986</td>\n",
       "      <td>1515966223509089906</td>\n",
       "      <td>2268105426648171520</td>\n",
       "      <td>electronics.tablet</td>\n",
       "      <td>samsung</td>\n",
       "      <td>162.01</td>\n",
       "      <td>1515915625441993984</td>\n",
       "      <td>24.00</td>\n",
       "      <td>女</td>\n",
       "      <td>海南</td>\n",
       "    </tr>\n",
       "    <tr>\n",
       "      <th>2</th>\n",
       "      <td>2020-04-24 14:37:43 UTC</td>\n",
       "      <td>2294444024058086220</td>\n",
       "      <td>2273948319057183658</td>\n",
       "      <td>2268105430162997248</td>\n",
       "      <td>electronics.audio.headphone</td>\n",
       "      <td>huawei</td>\n",
       "      <td>77.52</td>\n",
       "      <td>1515915625447879424</td>\n",
       "      <td>38.00</td>\n",
       "      <td>女</td>\n",
       "      <td>北京</td>\n",
       "    </tr>\n",
       "    <tr>\n",
       "      <th>3</th>\n",
       "      <td>2020-04-24 14:37:43 UTC</td>\n",
       "      <td>2294444024058086220</td>\n",
       "      <td>2273948319057183658</td>\n",
       "      <td>2268105430162997248</td>\n",
       "      <td>electronics.audio.headphone</td>\n",
       "      <td>huawei</td>\n",
       "      <td>77.52</td>\n",
       "      <td>1515915625447879424</td>\n",
       "      <td>38.00</td>\n",
       "      <td>女</td>\n",
       "      <td>北京</td>\n",
       "    </tr>\n",
       "    <tr>\n",
       "      <th>4</th>\n",
       "      <td>2020-04-24 19:16:21 UTC</td>\n",
       "      <td>2294584263154074236</td>\n",
       "      <td>2273948316817424439</td>\n",
       "      <td>2268105471367840000</td>\n",
       "      <td>NaN</td>\n",
       "      <td>karcher</td>\n",
       "      <td>217.57</td>\n",
       "      <td>1515915625443148032</td>\n",
       "      <td>32.00</td>\n",
       "      <td>女</td>\n",
       "      <td>广东</td>\n",
       "    </tr>\n",
       "  </tbody>\n",
       "</table>\n",
       "</div>"
      ],
      "text/plain": [
       "                event_time             order_id           product_id  \\\n",
       "0  2020-04-24 11:50:39 UTC  2294359932054536986  1515966223509089906   \n",
       "1  2020-04-24 11:50:39 UTC  2294359932054536986  1515966223509089906   \n",
       "2  2020-04-24 14:37:43 UTC  2294444024058086220  2273948319057183658   \n",
       "3  2020-04-24 14:37:43 UTC  2294444024058086220  2273948319057183658   \n",
       "4  2020-04-24 19:16:21 UTC  2294584263154074236  2273948316817424439   \n",
       "\n",
       "           category_id                category_code    brand  price  \\\n",
       "0  2268105426648171520           electronics.tablet  samsung 162.01   \n",
       "1  2268105426648171520           electronics.tablet  samsung 162.01   \n",
       "2  2268105430162997248  electronics.audio.headphone   huawei  77.52   \n",
       "3  2268105430162997248  electronics.audio.headphone   huawei  77.52   \n",
       "4  2268105471367840000                          NaN  karcher 217.57   \n",
       "\n",
       "               user_id   age sex local  \n",
       "0  1515915625441993984 24.00   女    海南  \n",
       "1  1515915625441993984 24.00   女    海南  \n",
       "2  1515915625447879424 38.00   女    北京  \n",
       "3  1515915625447879424 38.00   女    北京  \n",
       "4  1515915625443148032 32.00   女    广东  "
      ]
     },
     "execution_count": 3,
     "metadata": {},
     "output_type": "execute_result"
    }
   ],
   "source": [
    "data.head()"
   ]
  },
  {
   "cell_type": "code",
   "execution_count": 7,
   "metadata": {},
   "outputs": [
    {
     "data": {
      "text/plain": [
       "(564169, 11)"
      ]
     },
     "execution_count": 7,
     "metadata": {},
     "output_type": "execute_result"
    }
   ],
   "source": [
    "data.shape"
   ]
  },
  {
   "cell_type": "code",
   "execution_count": 5,
   "metadata": {},
   "outputs": [
    {
     "data": {
      "text/plain": [
       "Index(['event_time', 'order_id', 'product_id', 'category_id', 'category_code',\n",
       "       'brand', 'price', 'user_id', 'age', 'sex', 'local'],\n",
       "      dtype='object')"
      ]
     },
     "execution_count": 5,
     "metadata": {},
     "output_type": "execute_result"
    }
   ],
   "source": [
    "data.columns"
   ]
  },
  {
   "cell_type": "markdown",
   "metadata": {},
   "source": [
    "##### 字段解释 "
   ]
  },
  {
   "cell_type": "markdown",
   "metadata": {},
   "source": [
    "1 event_time 下单时间\n",
    "2 order_id  订单编号\n",
    "3 product_id 产品编号\n",
    "4 category_id 类别编号\n",
    "5 category_code 类别\n",
    "6 brand 品牌\n",
    "7 price 价格\n",
    "8 user_id 用户编号\n",
    "9 age 年龄\n",
    "10 sex 性别\n",
    "11 local 省份"
   ]
  },
  {
   "cell_type": "markdown",
   "metadata": {},
   "source": [
    "### 2 数据EDA"
   ]
  },
  {
   "cell_type": "markdown",
   "metadata": {},
   "source": [
    "#### 2.1 日期数据处理 "
   ]
  },
  {
   "cell_type": "markdown",
   "metadata": {},
   "source": [
    "因为原数据中的日期数据（下单时间）为精确到秒的格式，为了方便后续使用，将日期处理成日期列、月份、周几的格式"
   ]
  },
  {
   "cell_type": "markdown",
   "metadata": {},
   "source": [
    "①处理日期列"
   ]
  },
  {
   "cell_type": "code",
   "execution_count": 5,
   "metadata": {},
   "outputs": [],
   "source": [
    "#创建日期列\n",
    "data['date'] = data.event_time.apply(lambda x : x.split(' ')[0])"
   ]
  },
  {
   "cell_type": "code",
   "execution_count": 6,
   "metadata": {},
   "outputs": [],
   "source": [
    "#转化成日期格式\n",
    "data['date'] = pd.to_datetime(data['date'])"
   ]
  },
  {
   "cell_type": "markdown",
   "metadata": {},
   "source": [
    "②处理月份列"
   ]
  },
  {
   "cell_type": "code",
   "execution_count": 7,
   "metadata": {},
   "outputs": [],
   "source": [
    "data['month'] = data.date.dt.month"
   ]
  },
  {
   "cell_type": "markdown",
   "metadata": {},
   "source": [
    "③处理周几列：周日为0，周一为1，以此类推"
   ]
  },
  {
   "cell_type": "code",
   "execution_count": 8,
   "metadata": {},
   "outputs": [],
   "source": [
    "data['weekday'] = data.date.apply(lambda x:x.strftime(\"%w\"))"
   ]
  },
  {
   "cell_type": "markdown",
   "metadata": {},
   "source": [
    "④删除event_time列 "
   ]
  },
  {
   "cell_type": "code",
   "execution_count": 9,
   "metadata": {},
   "outputs": [],
   "source": [
    "del data['event_time']"
   ]
  },
  {
   "cell_type": "code",
   "execution_count": 10,
   "metadata": {},
   "outputs": [
    {
     "data": {
      "text/html": [
       "<div>\n",
       "<style scoped>\n",
       "    .dataframe tbody tr th:only-of-type {\n",
       "        vertical-align: middle;\n",
       "    }\n",
       "\n",
       "    .dataframe tbody tr th {\n",
       "        vertical-align: top;\n",
       "    }\n",
       "\n",
       "    .dataframe thead th {\n",
       "        text-align: right;\n",
       "    }\n",
       "</style>\n",
       "<table border=\"1\" class=\"dataframe\">\n",
       "  <thead>\n",
       "    <tr style=\"text-align: right;\">\n",
       "      <th></th>\n",
       "      <th>order_id</th>\n",
       "      <th>product_id</th>\n",
       "      <th>category_id</th>\n",
       "      <th>category_code</th>\n",
       "      <th>brand</th>\n",
       "      <th>price</th>\n",
       "      <th>user_id</th>\n",
       "      <th>age</th>\n",
       "      <th>sex</th>\n",
       "      <th>local</th>\n",
       "      <th>date</th>\n",
       "      <th>month</th>\n",
       "      <th>weekday</th>\n",
       "    </tr>\n",
       "  </thead>\n",
       "  <tbody>\n",
       "    <tr>\n",
       "      <th>0</th>\n",
       "      <td>2294359932054536986</td>\n",
       "      <td>1515966223509089906</td>\n",
       "      <td>2268105426648171520</td>\n",
       "      <td>electronics.tablet</td>\n",
       "      <td>samsung</td>\n",
       "      <td>162.01</td>\n",
       "      <td>1515915625441993984</td>\n",
       "      <td>24.00</td>\n",
       "      <td>女</td>\n",
       "      <td>海南</td>\n",
       "      <td>2020-04-24</td>\n",
       "      <td>4</td>\n",
       "      <td>5</td>\n",
       "    </tr>\n",
       "    <tr>\n",
       "      <th>1</th>\n",
       "      <td>2294359932054536986</td>\n",
       "      <td>1515966223509089906</td>\n",
       "      <td>2268105426648171520</td>\n",
       "      <td>electronics.tablet</td>\n",
       "      <td>samsung</td>\n",
       "      <td>162.01</td>\n",
       "      <td>1515915625441993984</td>\n",
       "      <td>24.00</td>\n",
       "      <td>女</td>\n",
       "      <td>海南</td>\n",
       "      <td>2020-04-24</td>\n",
       "      <td>4</td>\n",
       "      <td>5</td>\n",
       "    </tr>\n",
       "    <tr>\n",
       "      <th>2</th>\n",
       "      <td>2294444024058086220</td>\n",
       "      <td>2273948319057183658</td>\n",
       "      <td>2268105430162997248</td>\n",
       "      <td>electronics.audio.headphone</td>\n",
       "      <td>huawei</td>\n",
       "      <td>77.52</td>\n",
       "      <td>1515915625447879424</td>\n",
       "      <td>38.00</td>\n",
       "      <td>女</td>\n",
       "      <td>北京</td>\n",
       "      <td>2020-04-24</td>\n",
       "      <td>4</td>\n",
       "      <td>5</td>\n",
       "    </tr>\n",
       "    <tr>\n",
       "      <th>3</th>\n",
       "      <td>2294444024058086220</td>\n",
       "      <td>2273948319057183658</td>\n",
       "      <td>2268105430162997248</td>\n",
       "      <td>electronics.audio.headphone</td>\n",
       "      <td>huawei</td>\n",
       "      <td>77.52</td>\n",
       "      <td>1515915625447879424</td>\n",
       "      <td>38.00</td>\n",
       "      <td>女</td>\n",
       "      <td>北京</td>\n",
       "      <td>2020-04-24</td>\n",
       "      <td>4</td>\n",
       "      <td>5</td>\n",
       "    </tr>\n",
       "    <tr>\n",
       "      <th>4</th>\n",
       "      <td>2294584263154074236</td>\n",
       "      <td>2273948316817424439</td>\n",
       "      <td>2268105471367840000</td>\n",
       "      <td>NaN</td>\n",
       "      <td>karcher</td>\n",
       "      <td>217.57</td>\n",
       "      <td>1515915625443148032</td>\n",
       "      <td>32.00</td>\n",
       "      <td>女</td>\n",
       "      <td>广东</td>\n",
       "      <td>2020-04-24</td>\n",
       "      <td>4</td>\n",
       "      <td>5</td>\n",
       "    </tr>\n",
       "  </tbody>\n",
       "</table>\n",
       "</div>"
      ],
      "text/plain": [
       "              order_id           product_id          category_id  \\\n",
       "0  2294359932054536986  1515966223509089906  2268105426648171520   \n",
       "1  2294359932054536986  1515966223509089906  2268105426648171520   \n",
       "2  2294444024058086220  2273948319057183658  2268105430162997248   \n",
       "3  2294444024058086220  2273948319057183658  2268105430162997248   \n",
       "4  2294584263154074236  2273948316817424439  2268105471367840000   \n",
       "\n",
       "                 category_code    brand  price              user_id   age sex  \\\n",
       "0           electronics.tablet  samsung 162.01  1515915625441993984 24.00   女   \n",
       "1           electronics.tablet  samsung 162.01  1515915625441993984 24.00   女   \n",
       "2  electronics.audio.headphone   huawei  77.52  1515915625447879424 38.00   女   \n",
       "3  electronics.audio.headphone   huawei  77.52  1515915625447879424 38.00   女   \n",
       "4                          NaN  karcher 217.57  1515915625443148032 32.00   女   \n",
       "\n",
       "  local       date  month weekday  \n",
       "0    海南 2020-04-24      4       5  \n",
       "1    海南 2020-04-24      4       5  \n",
       "2    北京 2020-04-24      4       5  \n",
       "3    北京 2020-04-24      4       5  \n",
       "4    广东 2020-04-24      4       5  "
      ]
     },
     "execution_count": 10,
     "metadata": {},
     "output_type": "execute_result"
    }
   ],
   "source": [
    "data.head()"
   ]
  },
  {
   "cell_type": "markdown",
   "metadata": {},
   "source": [
    "#### 2.2 处理缺失数据"
   ]
  },
  {
   "cell_type": "code",
   "execution_count": 11,
   "metadata": {},
   "outputs": [
    {
     "data": {
      "text/plain": [
       "(564169, 13)"
      ]
     },
     "execution_count": 11,
     "metadata": {},
     "output_type": "execute_result"
    }
   ],
   "source": [
    "data.shape"
   ]
  },
  {
   "cell_type": "code",
   "execution_count": 12,
   "metadata": {},
   "outputs": [
    {
     "name": "stdout",
     "output_type": "stream",
     "text": [
      "<class 'pandas.core.frame.DataFrame'>\n",
      "Int64Index: 564169 entries, 0 to 2633520\n",
      "Data columns (total 13 columns):\n",
      " #   Column         Non-Null Count   Dtype         \n",
      "---  ------         --------------   -----         \n",
      " 0   order_id       564169 non-null  int64         \n",
      " 1   product_id     564169 non-null  int64         \n",
      " 2   category_id    564169 non-null  int64         \n",
      " 3   category_code  434799 non-null  object        \n",
      " 4   brand          536945 non-null  object        \n",
      " 5   price          564169 non-null  float64       \n",
      " 6   user_id        564169 non-null  int64         \n",
      " 7   age            564169 non-null  float64       \n",
      " 8   sex            564169 non-null  object        \n",
      " 9   local          564169 non-null  object        \n",
      " 10  date           564169 non-null  datetime64[ns]\n",
      " 11  month          564169 non-null  int64         \n",
      " 12  weekday        564169 non-null  object        \n",
      "dtypes: datetime64[ns](1), float64(2), int64(5), object(5)\n",
      "memory usage: 60.3+ MB\n"
     ]
    }
   ],
   "source": [
    "data.info()"
   ]
  },
  {
   "cell_type": "markdown",
   "metadata": {},
   "source": [
    "发现category_code（产品品类）和brand（品牌）两列存在数据缺失，因为产品品类缺失的比较多，直接用‘M’来替代缺失值；而brand缺失比较少，直接删除缺失值；"
   ]
  },
  {
   "cell_type": "code",
   "execution_count": 13,
   "metadata": {},
   "outputs": [],
   "source": [
    "#使用M代替缺失值\n",
    "data['category_code'] = data['category_code'].fillna(\"M\")"
   ]
  },
  {
   "cell_type": "code",
   "execution_count": 14,
   "metadata": {},
   "outputs": [],
   "source": [
    "#删除brand缺失行\n",
    "data = data[data.brand.notnull()]"
   ]
  },
  {
   "cell_type": "code",
   "execution_count": 15,
   "metadata": {},
   "outputs": [
    {
     "name": "stdout",
     "output_type": "stream",
     "text": [
      "<class 'pandas.core.frame.DataFrame'>\n",
      "Int64Index: 536945 entries, 0 to 2633520\n",
      "Data columns (total 13 columns):\n",
      " #   Column         Non-Null Count   Dtype         \n",
      "---  ------         --------------   -----         \n",
      " 0   order_id       536945 non-null  int64         \n",
      " 1   product_id     536945 non-null  int64         \n",
      " 2   category_id    536945 non-null  int64         \n",
      " 3   category_code  536945 non-null  object        \n",
      " 4   brand          536945 non-null  object        \n",
      " 5   price          536945 non-null  float64       \n",
      " 6   user_id        536945 non-null  int64         \n",
      " 7   age            536945 non-null  float64       \n",
      " 8   sex            536945 non-null  object        \n",
      " 9   local          536945 non-null  object        \n",
      " 10  date           536945 non-null  datetime64[ns]\n",
      " 11  month          536945 non-null  int64         \n",
      " 12  weekday        536945 non-null  object        \n",
      "dtypes: datetime64[ns](1), float64(2), int64(5), object(5)\n",
      "memory usage: 57.4+ MB\n"
     ]
    }
   ],
   "source": [
    "data.info()"
   ]
  },
  {
   "cell_type": "markdown",
   "metadata": {},
   "source": [
    "#### 2.3 处理重复数据 "
   ]
  },
  {
   "cell_type": "code",
   "execution_count": 16,
   "metadata": {},
   "outputs": [
    {
     "data": {
      "text/plain": [
       "634"
      ]
     },
     "execution_count": 16,
     "metadata": {},
     "output_type": "execute_result"
    }
   ],
   "source": [
    "data.duplicated().sum()"
   ]
  },
  {
   "cell_type": "markdown",
   "metadata": {},
   "source": [
    "存在634条重复数据，但是销售数据中可能存在一个用户在同天下单两次或多次的情况，所以不删除重复值，而是增加购买数量和总价格的列"
   ]
  },
  {
   "cell_type": "code",
   "execution_count": 17,
   "metadata": {},
   "outputs": [],
   "source": [
    "#添加新列：购买数量\n",
    "data = data.value_counts().reset_index().rename(columns={0:'buy_cnt'})"
   ]
  },
  {
   "cell_type": "code",
   "execution_count": 18,
   "metadata": {},
   "outputs": [],
   "source": [
    "#添加新列：购买总金额\n",
    "data['amount'] = data['price'] * data['buy_cnt']"
   ]
  },
  {
   "cell_type": "code",
   "execution_count": 19,
   "metadata": {},
   "outputs": [
    {
     "data": {
      "text/plain": [
       "Index(['order_id', 'product_id', 'category_id', 'category_code', 'brand',\n",
       "       'price', 'user_id', 'age', 'sex', 'local', 'date', 'month', 'weekday',\n",
       "       'buy_cnt', 'amount'],\n",
       "      dtype='object')"
      ]
     },
     "execution_count": 19,
     "metadata": {},
     "output_type": "execute_result"
    }
   ],
   "source": [
    "data.columns"
   ]
  },
  {
   "cell_type": "markdown",
   "metadata": {},
   "source": [
    "#### 2.4 查看数据是否存在异常 "
   ]
  },
  {
   "cell_type": "code",
   "execution_count": 20,
   "metadata": {},
   "outputs": [
    {
     "name": "stdout",
     "output_type": "stream",
     "text": [
      "<class 'pandas.core.frame.DataFrame'>\n",
      "RangeIndex: 536311 entries, 0 to 536310\n",
      "Data columns (total 15 columns):\n",
      " #   Column         Non-Null Count   Dtype         \n",
      "---  ------         --------------   -----         \n",
      " 0   order_id       536311 non-null  int64         \n",
      " 1   product_id     536311 non-null  int64         \n",
      " 2   category_id    536311 non-null  int64         \n",
      " 3   category_code  536311 non-null  object        \n",
      " 4   brand          536311 non-null  object        \n",
      " 5   price          536311 non-null  float64       \n",
      " 6   user_id        536311 non-null  int64         \n",
      " 7   age            536311 non-null  float64       \n",
      " 8   sex            536311 non-null  object        \n",
      " 9   local          536311 non-null  object        \n",
      " 10  date           536311 non-null  datetime64[ns]\n",
      " 11  month          536311 non-null  int64         \n",
      " 12  weekday        536311 non-null  object        \n",
      " 13  buy_cnt        536311 non-null  int64         \n",
      " 14  amount         536311 non-null  float64       \n",
      "dtypes: datetime64[ns](1), float64(3), int64(6), object(5)\n",
      "memory usage: 61.4+ MB\n"
     ]
    }
   ],
   "source": [
    "data.info()"
   ]
  },
  {
   "cell_type": "markdown",
   "metadata": {},
   "source": [
    "①把几个id的格式转化成object格式"
   ]
  },
  {
   "cell_type": "code",
   "execution_count": 21,
   "metadata": {},
   "outputs": [],
   "source": [
    "data.order_id = data.order_id.astype('object')\n",
    "data.product_id = data.product_id.astype('object')\n",
    "data.category_id = data.category_id.astype('object')\n",
    "data.user_id = data.user_id.astype('object')"
   ]
  },
  {
   "cell_type": "markdown",
   "metadata": {},
   "source": [
    "②把weekday转化成int格式"
   ]
  },
  {
   "cell_type": "code",
   "execution_count": 22,
   "metadata": {},
   "outputs": [],
   "source": [
    "data['weekday'] = data.loc[:,'weekday'].astype('int')"
   ]
  },
  {
   "cell_type": "code",
   "execution_count": 28,
   "metadata": {},
   "outputs": [
    {
     "name": "stdout",
     "output_type": "stream",
     "text": [
      "<class 'pandas.core.frame.DataFrame'>\n",
      "RangeIndex: 536311 entries, 0 to 536310\n",
      "Data columns (total 15 columns):\n",
      " #   Column         Non-Null Count   Dtype         \n",
      "---  ------         --------------   -----         \n",
      " 0   order_id       536311 non-null  object        \n",
      " 1   product_id     536311 non-null  object        \n",
      " 2   category_id    536311 non-null  object        \n",
      " 3   category_code  536311 non-null  object        \n",
      " 4   brand          536311 non-null  object        \n",
      " 5   price          536311 non-null  float64       \n",
      " 6   user_id        536311 non-null  object        \n",
      " 7   age            536311 non-null  float64       \n",
      " 8   sex            536311 non-null  object        \n",
      " 9   local          536311 non-null  object        \n",
      " 10  date           536311 non-null  datetime64[ns]\n",
      " 11  month          536311 non-null  int64         \n",
      " 12  weekday        536311 non-null  int32         \n",
      " 13  buy_cnt        536311 non-null  int64         \n",
      " 14  amount         536311 non-null  float64       \n",
      "dtypes: datetime64[ns](1), float64(3), int32(1), int64(2), object(8)\n",
      "memory usage: 59.3+ MB\n"
     ]
    }
   ],
   "source": [
    "data.info()"
   ]
  },
  {
   "cell_type": "markdown",
   "metadata": {},
   "source": [
    "③使用统计方法查看数值型变量（价格和年龄）是否异常"
   ]
  },
  {
   "cell_type": "code",
   "execution_count": 23,
   "metadata": {
    "scrolled": true
   },
   "outputs": [
    {
     "data": {
      "text/html": [
       "<div>\n",
       "<style scoped>\n",
       "    .dataframe tbody tr th:only-of-type {\n",
       "        vertical-align: middle;\n",
       "    }\n",
       "\n",
       "    .dataframe tbody tr th {\n",
       "        vertical-align: top;\n",
       "    }\n",
       "\n",
       "    .dataframe thead th {\n",
       "        text-align: right;\n",
       "    }\n",
       "</style>\n",
       "<table border=\"1\" class=\"dataframe\">\n",
       "  <thead>\n",
       "    <tr style=\"text-align: right;\">\n",
       "      <th></th>\n",
       "      <th>count</th>\n",
       "      <th>mean</th>\n",
       "      <th>std</th>\n",
       "      <th>min</th>\n",
       "      <th>1%</th>\n",
       "      <th>25%</th>\n",
       "      <th>50%</th>\n",
       "      <th>75%</th>\n",
       "      <th>99%</th>\n",
       "      <th>max</th>\n",
       "    </tr>\n",
       "  </thead>\n",
       "  <tbody>\n",
       "    <tr>\n",
       "      <th>price</th>\n",
       "      <td>536311.00</td>\n",
       "      <td>214.54</td>\n",
       "      <td>305.98</td>\n",
       "      <td>0.00</td>\n",
       "      <td>1.13</td>\n",
       "      <td>24.51</td>\n",
       "      <td>99.51</td>\n",
       "      <td>289.33</td>\n",
       "      <td>1387.01</td>\n",
       "      <td>11574.05</td>\n",
       "    </tr>\n",
       "    <tr>\n",
       "      <th>age</th>\n",
       "      <td>536311.00</td>\n",
       "      <td>33.18</td>\n",
       "      <td>10.12</td>\n",
       "      <td>16.00</td>\n",
       "      <td>16.00</td>\n",
       "      <td>24.00</td>\n",
       "      <td>33.00</td>\n",
       "      <td>42.00</td>\n",
       "      <td>50.00</td>\n",
       "      <td>50.00</td>\n",
       "    </tr>\n",
       "    <tr>\n",
       "      <th>month</th>\n",
       "      <td>536311.00</td>\n",
       "      <td>7.72</td>\n",
       "      <td>2.56</td>\n",
       "      <td>1.00</td>\n",
       "      <td>1.00</td>\n",
       "      <td>6.00</td>\n",
       "      <td>8.00</td>\n",
       "      <td>10.00</td>\n",
       "      <td>11.00</td>\n",
       "      <td>11.00</td>\n",
       "    </tr>\n",
       "    <tr>\n",
       "      <th>weekday</th>\n",
       "      <td>536311.00</td>\n",
       "      <td>3.03</td>\n",
       "      <td>2.04</td>\n",
       "      <td>0.00</td>\n",
       "      <td>0.00</td>\n",
       "      <td>1.00</td>\n",
       "      <td>3.00</td>\n",
       "      <td>5.00</td>\n",
       "      <td>6.00</td>\n",
       "      <td>6.00</td>\n",
       "    </tr>\n",
       "    <tr>\n",
       "      <th>buy_cnt</th>\n",
       "      <td>536311.00</td>\n",
       "      <td>1.00</td>\n",
       "      <td>0.04</td>\n",
       "      <td>1.00</td>\n",
       "      <td>1.00</td>\n",
       "      <td>1.00</td>\n",
       "      <td>1.00</td>\n",
       "      <td>1.00</td>\n",
       "      <td>1.00</td>\n",
       "      <td>4.00</td>\n",
       "    </tr>\n",
       "    <tr>\n",
       "      <th>amount</th>\n",
       "      <td>536311.00</td>\n",
       "      <td>214.73</td>\n",
       "      <td>306.48</td>\n",
       "      <td>0.00</td>\n",
       "      <td>1.13</td>\n",
       "      <td>24.98</td>\n",
       "      <td>99.51</td>\n",
       "      <td>289.33</td>\n",
       "      <td>1387.01</td>\n",
       "      <td>11574.05</td>\n",
       "    </tr>\n",
       "  </tbody>\n",
       "</table>\n",
       "</div>"
      ],
      "text/plain": [
       "            count   mean    std   min    1%   25%   50%    75%     99%  \\\n",
       "price   536311.00 214.54 305.98  0.00  1.13 24.51 99.51 289.33 1387.01   \n",
       "age     536311.00  33.18  10.12 16.00 16.00 24.00 33.00  42.00   50.00   \n",
       "month   536311.00   7.72   2.56  1.00  1.00  6.00  8.00  10.00   11.00   \n",
       "weekday 536311.00   3.03   2.04  0.00  0.00  1.00  3.00   5.00    6.00   \n",
       "buy_cnt 536311.00   1.00   0.04  1.00  1.00  1.00  1.00   1.00    1.00   \n",
       "amount  536311.00 214.73 306.48  0.00  1.13 24.98 99.51 289.33 1387.01   \n",
       "\n",
       "             max  \n",
       "price   11574.05  \n",
       "age        50.00  \n",
       "month      11.00  \n",
       "weekday     6.00  \n",
       "buy_cnt     4.00  \n",
       "amount  11574.05  "
      ]
     },
     "execution_count": 23,
     "metadata": {},
     "output_type": "execute_result"
    }
   ],
   "source": [
    "data.describe(percentiles=[0.01,0.25,0.75,0.99]).T"
   ]
  },
  {
   "cell_type": "markdown",
   "metadata": {},
   "source": [
    "以上7个字段均无异常情况：\n",
    "price和amount最小值为0，可能是免费商品或者赠品，不属于异常情况"
   ]
  },
  {
   "cell_type": "markdown",
   "metadata": {},
   "source": [
    "④检查其他字段是否有异常"
   ]
  },
  {
   "cell_type": "code",
   "execution_count": 24,
   "metadata": {},
   "outputs": [
    {
     "data": {
      "text/html": [
       "<div>\n",
       "<style scoped>\n",
       "    .dataframe tbody tr th:only-of-type {\n",
       "        vertical-align: middle;\n",
       "    }\n",
       "\n",
       "    .dataframe tbody tr th {\n",
       "        vertical-align: top;\n",
       "    }\n",
       "\n",
       "    .dataframe thead th {\n",
       "        text-align: right;\n",
       "    }\n",
       "</style>\n",
       "<table border=\"1\" class=\"dataframe\">\n",
       "  <thead>\n",
       "    <tr style=\"text-align: right;\">\n",
       "      <th></th>\n",
       "      <th>count</th>\n",
       "      <th>unique</th>\n",
       "      <th>top</th>\n",
       "      <th>freq</th>\n",
       "      <th>first</th>\n",
       "      <th>last</th>\n",
       "      <th>mean</th>\n",
       "      <th>std</th>\n",
       "      <th>min</th>\n",
       "      <th>25%</th>\n",
       "      <th>50%</th>\n",
       "      <th>75%</th>\n",
       "      <th>max</th>\n",
       "    </tr>\n",
       "  </thead>\n",
       "  <tbody>\n",
       "    <tr>\n",
       "      <th>order_id</th>\n",
       "      <td>536311.00</td>\n",
       "      <td>389511.00</td>\n",
       "      <td>2388440981134689792.00</td>\n",
       "      <td>47.00</td>\n",
       "      <td>NaT</td>\n",
       "      <td>NaT</td>\n",
       "      <td>NaN</td>\n",
       "      <td>NaN</td>\n",
       "      <td>NaN</td>\n",
       "      <td>NaN</td>\n",
       "      <td>NaN</td>\n",
       "      <td>NaN</td>\n",
       "      <td>NaN</td>\n",
       "    </tr>\n",
       "    <tr>\n",
       "      <th>product_id</th>\n",
       "      <td>536311.00</td>\n",
       "      <td>19078.00</td>\n",
       "      <td>1515966223517847040.00</td>\n",
       "      <td>2755.00</td>\n",
       "      <td>NaT</td>\n",
       "      <td>NaT</td>\n",
       "      <td>NaN</td>\n",
       "      <td>NaN</td>\n",
       "      <td>NaN</td>\n",
       "      <td>NaN</td>\n",
       "      <td>NaN</td>\n",
       "      <td>NaN</td>\n",
       "      <td>NaN</td>\n",
       "    </tr>\n",
       "    <tr>\n",
       "      <th>category_id</th>\n",
       "      <td>536311.00</td>\n",
       "      <td>786.00</td>\n",
       "      <td>2268105428166508800.00</td>\n",
       "      <td>101081.00</td>\n",
       "      <td>NaT</td>\n",
       "      <td>NaT</td>\n",
       "      <td>NaN</td>\n",
       "      <td>NaN</td>\n",
       "      <td>NaN</td>\n",
       "      <td>NaN</td>\n",
       "      <td>NaN</td>\n",
       "      <td>NaN</td>\n",
       "      <td>NaN</td>\n",
       "    </tr>\n",
       "    <tr>\n",
       "      <th>category_code</th>\n",
       "      <td>536311</td>\n",
       "      <td>124</td>\n",
       "      <td>M</td>\n",
       "      <td>116093</td>\n",
       "      <td>NaT</td>\n",
       "      <td>NaT</td>\n",
       "      <td>NaN</td>\n",
       "      <td>NaN</td>\n",
       "      <td>NaN</td>\n",
       "      <td>NaN</td>\n",
       "      <td>NaN</td>\n",
       "      <td>NaN</td>\n",
       "      <td>NaN</td>\n",
       "    </tr>\n",
       "    <tr>\n",
       "      <th>brand</th>\n",
       "      <td>536311</td>\n",
       "      <td>868</td>\n",
       "      <td>samsung</td>\n",
       "      <td>96123</td>\n",
       "      <td>NaT</td>\n",
       "      <td>NaT</td>\n",
       "      <td>NaN</td>\n",
       "      <td>NaN</td>\n",
       "      <td>NaN</td>\n",
       "      <td>NaN</td>\n",
       "      <td>NaN</td>\n",
       "      <td>NaN</td>\n",
       "      <td>NaN</td>\n",
       "    </tr>\n",
       "    <tr>\n",
       "      <th>price</th>\n",
       "      <td>536311.00</td>\n",
       "      <td>NaN</td>\n",
       "      <td>NaN</td>\n",
       "      <td>NaN</td>\n",
       "      <td>NaT</td>\n",
       "      <td>NaT</td>\n",
       "      <td>214.54</td>\n",
       "      <td>305.98</td>\n",
       "      <td>0.00</td>\n",
       "      <td>24.51</td>\n",
       "      <td>99.51</td>\n",
       "      <td>289.33</td>\n",
       "      <td>11574.05</td>\n",
       "    </tr>\n",
       "    <tr>\n",
       "      <th>user_id</th>\n",
       "      <td>536311.00</td>\n",
       "      <td>92769.00</td>\n",
       "      <td>1515915625512422912.00</td>\n",
       "      <td>1026.00</td>\n",
       "      <td>NaT</td>\n",
       "      <td>NaT</td>\n",
       "      <td>NaN</td>\n",
       "      <td>NaN</td>\n",
       "      <td>NaN</td>\n",
       "      <td>NaN</td>\n",
       "      <td>NaN</td>\n",
       "      <td>NaN</td>\n",
       "      <td>NaN</td>\n",
       "    </tr>\n",
       "    <tr>\n",
       "      <th>age</th>\n",
       "      <td>536311.00</td>\n",
       "      <td>NaN</td>\n",
       "      <td>NaN</td>\n",
       "      <td>NaN</td>\n",
       "      <td>NaT</td>\n",
       "      <td>NaT</td>\n",
       "      <td>33.18</td>\n",
       "      <td>10.12</td>\n",
       "      <td>16.00</td>\n",
       "      <td>24.00</td>\n",
       "      <td>33.00</td>\n",
       "      <td>42.00</td>\n",
       "      <td>50.00</td>\n",
       "    </tr>\n",
       "    <tr>\n",
       "      <th>sex</th>\n",
       "      <td>536311</td>\n",
       "      <td>2</td>\n",
       "      <td>男</td>\n",
       "      <td>270454</td>\n",
       "      <td>NaT</td>\n",
       "      <td>NaT</td>\n",
       "      <td>NaN</td>\n",
       "      <td>NaN</td>\n",
       "      <td>NaN</td>\n",
       "      <td>NaN</td>\n",
       "      <td>NaN</td>\n",
       "      <td>NaN</td>\n",
       "      <td>NaN</td>\n",
       "    </tr>\n",
       "    <tr>\n",
       "      <th>local</th>\n",
       "      <td>536311</td>\n",
       "      <td>11</td>\n",
       "      <td>广东</td>\n",
       "      <td>117097</td>\n",
       "      <td>NaT</td>\n",
       "      <td>NaT</td>\n",
       "      <td>NaN</td>\n",
       "      <td>NaN</td>\n",
       "      <td>NaN</td>\n",
       "      <td>NaN</td>\n",
       "      <td>NaN</td>\n",
       "      <td>NaN</td>\n",
       "      <td>NaN</td>\n",
       "    </tr>\n",
       "    <tr>\n",
       "      <th>date</th>\n",
       "      <td>536311</td>\n",
       "      <td>323</td>\n",
       "      <td>2020-10-22 00:00:00</td>\n",
       "      <td>8310</td>\n",
       "      <td>1970-01-01</td>\n",
       "      <td>2020-11-21</td>\n",
       "      <td>NaN</td>\n",
       "      <td>NaN</td>\n",
       "      <td>NaN</td>\n",
       "      <td>NaN</td>\n",
       "      <td>NaN</td>\n",
       "      <td>NaN</td>\n",
       "      <td>NaN</td>\n",
       "    </tr>\n",
       "    <tr>\n",
       "      <th>month</th>\n",
       "      <td>536311.00</td>\n",
       "      <td>NaN</td>\n",
       "      <td>NaN</td>\n",
       "      <td>NaN</td>\n",
       "      <td>NaT</td>\n",
       "      <td>NaT</td>\n",
       "      <td>7.72</td>\n",
       "      <td>2.56</td>\n",
       "      <td>1.00</td>\n",
       "      <td>6.00</td>\n",
       "      <td>8.00</td>\n",
       "      <td>10.00</td>\n",
       "      <td>11.00</td>\n",
       "    </tr>\n",
       "    <tr>\n",
       "      <th>weekday</th>\n",
       "      <td>536311.00</td>\n",
       "      <td>NaN</td>\n",
       "      <td>NaN</td>\n",
       "      <td>NaN</td>\n",
       "      <td>NaT</td>\n",
       "      <td>NaT</td>\n",
       "      <td>3.03</td>\n",
       "      <td>2.04</td>\n",
       "      <td>0.00</td>\n",
       "      <td>1.00</td>\n",
       "      <td>3.00</td>\n",
       "      <td>5.00</td>\n",
       "      <td>6.00</td>\n",
       "    </tr>\n",
       "    <tr>\n",
       "      <th>buy_cnt</th>\n",
       "      <td>536311.00</td>\n",
       "      <td>NaN</td>\n",
       "      <td>NaN</td>\n",
       "      <td>NaN</td>\n",
       "      <td>NaT</td>\n",
       "      <td>NaT</td>\n",
       "      <td>1.00</td>\n",
       "      <td>0.04</td>\n",
       "      <td>1.00</td>\n",
       "      <td>1.00</td>\n",
       "      <td>1.00</td>\n",
       "      <td>1.00</td>\n",
       "      <td>4.00</td>\n",
       "    </tr>\n",
       "    <tr>\n",
       "      <th>amount</th>\n",
       "      <td>536311.00</td>\n",
       "      <td>NaN</td>\n",
       "      <td>NaN</td>\n",
       "      <td>NaN</td>\n",
       "      <td>NaT</td>\n",
       "      <td>NaT</td>\n",
       "      <td>214.73</td>\n",
       "      <td>306.48</td>\n",
       "      <td>0.00</td>\n",
       "      <td>24.98</td>\n",
       "      <td>99.51</td>\n",
       "      <td>289.33</td>\n",
       "      <td>11574.05</td>\n",
       "    </tr>\n",
       "  </tbody>\n",
       "</table>\n",
       "</div>"
      ],
      "text/plain": [
       "                  count    unique                    top      freq      first  \\\n",
       "order_id      536311.00 389511.00 2388440981134689792.00     47.00        NaT   \n",
       "product_id    536311.00  19078.00 1515966223517847040.00   2755.00        NaT   \n",
       "category_id   536311.00    786.00 2268105428166508800.00 101081.00        NaT   \n",
       "category_code    536311       124                      M    116093        NaT   \n",
       "brand            536311       868                samsung     96123        NaT   \n",
       "price         536311.00       NaN                    NaN       NaN        NaT   \n",
       "user_id       536311.00  92769.00 1515915625512422912.00   1026.00        NaT   \n",
       "age           536311.00       NaN                    NaN       NaN        NaT   \n",
       "sex              536311         2                      男    270454        NaT   \n",
       "local            536311        11                     广东    117097        NaT   \n",
       "date             536311       323    2020-10-22 00:00:00      8310 1970-01-01   \n",
       "month         536311.00       NaN                    NaN       NaN        NaT   \n",
       "weekday       536311.00       NaN                    NaN       NaN        NaT   \n",
       "buy_cnt       536311.00       NaN                    NaN       NaN        NaT   \n",
       "amount        536311.00       NaN                    NaN       NaN        NaT   \n",
       "\n",
       "                    last   mean    std   min   25%   50%    75%      max  \n",
       "order_id             NaT    NaN    NaN   NaN   NaN   NaN    NaN      NaN  \n",
       "product_id           NaT    NaN    NaN   NaN   NaN   NaN    NaN      NaN  \n",
       "category_id          NaT    NaN    NaN   NaN   NaN   NaN    NaN      NaN  \n",
       "category_code        NaT    NaN    NaN   NaN   NaN   NaN    NaN      NaN  \n",
       "brand                NaT    NaN    NaN   NaN   NaN   NaN    NaN      NaN  \n",
       "price                NaT 214.54 305.98  0.00 24.51 99.51 289.33 11574.05  \n",
       "user_id              NaT    NaN    NaN   NaN   NaN   NaN    NaN      NaN  \n",
       "age                  NaT  33.18  10.12 16.00 24.00 33.00  42.00    50.00  \n",
       "sex                  NaT    NaN    NaN   NaN   NaN   NaN    NaN      NaN  \n",
       "local                NaT    NaN    NaN   NaN   NaN   NaN    NaN      NaN  \n",
       "date          2020-11-21    NaN    NaN   NaN   NaN   NaN    NaN      NaN  \n",
       "month                NaT   7.72   2.56  1.00  6.00  8.00  10.00    11.00  \n",
       "weekday              NaT   3.03   2.04  0.00  1.00  3.00   5.00     6.00  \n",
       "buy_cnt              NaT   1.00   0.04  1.00  1.00  1.00   1.00     4.00  \n",
       "amount               NaT 214.73 306.48  0.00 24.98 99.51 289.33 11574.05  "
      ]
     },
     "execution_count": 24,
     "metadata": {},
     "output_type": "execute_result"
    }
   ],
   "source": [
    "data.describe(include='all').T"
   ]
  },
  {
   "cell_type": "markdown",
   "metadata": {},
   "source": [
    "发现date日期有1970-01-01的情况，应该属于异常情况，对其删除"
   ]
  },
  {
   "cell_type": "code",
   "execution_count": 25,
   "metadata": {},
   "outputs": [],
   "source": [
    "data = data[data.date>'1970-01-01']"
   ]
  },
  {
   "cell_type": "code",
   "execution_count": 26,
   "metadata": {},
   "outputs": [
    {
     "data": {
      "text/plain": [
       "Timestamp('2020-01-05 00:00:00')"
      ]
     },
     "execution_count": 26,
     "metadata": {},
     "output_type": "execute_result"
    }
   ],
   "source": [
    "data.date.min()"
   ]
  },
  {
   "cell_type": "markdown",
   "metadata": {},
   "source": [
    "### 3 数据清洗完成 "
   ]
  },
  {
   "cell_type": "code",
   "execution_count": 27,
   "metadata": {},
   "outputs": [
    {
     "data": {
      "text/html": [
       "<div>\n",
       "<style scoped>\n",
       "    .dataframe tbody tr th:only-of-type {\n",
       "        vertical-align: middle;\n",
       "    }\n",
       "\n",
       "    .dataframe tbody tr th {\n",
       "        vertical-align: top;\n",
       "    }\n",
       "\n",
       "    .dataframe thead th {\n",
       "        text-align: right;\n",
       "    }\n",
       "</style>\n",
       "<table border=\"1\" class=\"dataframe\">\n",
       "  <thead>\n",
       "    <tr style=\"text-align: right;\">\n",
       "      <th></th>\n",
       "      <th>order_id</th>\n",
       "      <th>product_id</th>\n",
       "      <th>category_id</th>\n",
       "      <th>category_code</th>\n",
       "      <th>brand</th>\n",
       "      <th>price</th>\n",
       "      <th>user_id</th>\n",
       "      <th>age</th>\n",
       "      <th>sex</th>\n",
       "      <th>local</th>\n",
       "      <th>date</th>\n",
       "      <th>month</th>\n",
       "      <th>weekday</th>\n",
       "      <th>buy_cnt</th>\n",
       "      <th>amount</th>\n",
       "    </tr>\n",
       "  </thead>\n",
       "  <tbody>\n",
       "    <tr>\n",
       "      <th>0</th>\n",
       "      <td>2318945879811162983</td>\n",
       "      <td>2309018204833317816</td>\n",
       "      <td>2268105479144079872</td>\n",
       "      <td>M</td>\n",
       "      <td>compliment</td>\n",
       "      <td>0.56</td>\n",
       "      <td>1515915625465863936</td>\n",
       "      <td>28.00</td>\n",
       "      <td>女</td>\n",
       "      <td>浙江</td>\n",
       "      <td>2020-05-28</td>\n",
       "      <td>5</td>\n",
       "      <td>4</td>\n",
       "      <td>4</td>\n",
       "      <td>2.24</td>\n",
       "    </tr>\n",
       "    <tr>\n",
       "      <th>1</th>\n",
       "      <td>2295740594749702229</td>\n",
       "      <td>1515966223509104892</td>\n",
       "      <td>2268105428166508800</td>\n",
       "      <td>electronics.smartphone</td>\n",
       "      <td>apple</td>\n",
       "      <td>1387.01</td>\n",
       "      <td>1515915625448766464</td>\n",
       "      <td>21.00</td>\n",
       "      <td>男</td>\n",
       "      <td>北京</td>\n",
       "      <td>2020-04-26</td>\n",
       "      <td>4</td>\n",
       "      <td>0</td>\n",
       "      <td>4</td>\n",
       "      <td>5548.04</td>\n",
       "    </tr>\n",
       "    <tr>\n",
       "      <th>2</th>\n",
       "      <td>2388440981134674698</td>\n",
       "      <td>1515966223509106757</td>\n",
       "      <td>2360741867017995776</td>\n",
       "      <td>appliances.environment.air_conditioner</td>\n",
       "      <td>samsung</td>\n",
       "      <td>366.41</td>\n",
       "      <td>1515915625514599680</td>\n",
       "      <td>50.00</td>\n",
       "      <td>男</td>\n",
       "      <td>广东</td>\n",
       "      <td>2020-11-16</td>\n",
       "      <td>11</td>\n",
       "      <td>1</td>\n",
       "      <td>4</td>\n",
       "      <td>1465.64</td>\n",
       "    </tr>\n",
       "    <tr>\n",
       "      <th>3</th>\n",
       "      <td>2375043331555066740</td>\n",
       "      <td>2273948308370096764</td>\n",
       "      <td>2268105409048871168</td>\n",
       "      <td>computers.network.router</td>\n",
       "      <td>altel</td>\n",
       "      <td>57.85</td>\n",
       "      <td>1515915625504379136</td>\n",
       "      <td>19.00</td>\n",
       "      <td>女</td>\n",
       "      <td>上海</td>\n",
       "      <td>2020-08-13</td>\n",
       "      <td>8</td>\n",
       "      <td>4</td>\n",
       "      <td>4</td>\n",
       "      <td>231.40</td>\n",
       "    </tr>\n",
       "    <tr>\n",
       "      <th>4</th>\n",
       "      <td>2334999887038383089</td>\n",
       "      <td>1515966223509090031</td>\n",
       "      <td>2268105402673529600</td>\n",
       "      <td>M</td>\n",
       "      <td>vitek</td>\n",
       "      <td>18.50</td>\n",
       "      <td>1515915625447765248</td>\n",
       "      <td>18.00</td>\n",
       "      <td>男</td>\n",
       "      <td>广东</td>\n",
       "      <td>2020-06-19</td>\n",
       "      <td>6</td>\n",
       "      <td>5</td>\n",
       "      <td>3</td>\n",
       "      <td>55.50</td>\n",
       "    </tr>\n",
       "  </tbody>\n",
       "</table>\n",
       "</div>"
      ],
      "text/plain": [
       "              order_id           product_id          category_id  \\\n",
       "0  2318945879811162983  2309018204833317816  2268105479144079872   \n",
       "1  2295740594749702229  1515966223509104892  2268105428166508800   \n",
       "2  2388440981134674698  1515966223509106757  2360741867017995776   \n",
       "3  2375043331555066740  2273948308370096764  2268105409048871168   \n",
       "4  2334999887038383089  1515966223509090031  2268105402673529600   \n",
       "\n",
       "                            category_code       brand   price  \\\n",
       "0                                       M  compliment    0.56   \n",
       "1                  electronics.smartphone       apple 1387.01   \n",
       "2  appliances.environment.air_conditioner     samsung  366.41   \n",
       "3                computers.network.router       altel   57.85   \n",
       "4                                       M       vitek   18.50   \n",
       "\n",
       "               user_id   age sex local       date  month  weekday  buy_cnt  \\\n",
       "0  1515915625465863936 28.00   女    浙江 2020-05-28      5        4        4   \n",
       "1  1515915625448766464 21.00   男    北京 2020-04-26      4        0        4   \n",
       "2  1515915625514599680 50.00   男    广东 2020-11-16     11        1        4   \n",
       "3  1515915625504379136 19.00   女    上海 2020-08-13      8        4        4   \n",
       "4  1515915625447765248 18.00   男    广东 2020-06-19      6        5        3   \n",
       "\n",
       "   amount  \n",
       "0    2.24  \n",
       "1 5548.04  \n",
       "2 1465.64  \n",
       "3  231.40  \n",
       "4   55.50  "
      ]
     },
     "execution_count": 27,
     "metadata": {},
     "output_type": "execute_result"
    }
   ],
   "source": [
    "data.head()"
   ]
  },
  {
   "cell_type": "code",
   "execution_count": 28,
   "metadata": {},
   "outputs": [
    {
     "data": {
      "text/plain": [
       "(535065, 15)"
      ]
     },
     "execution_count": 28,
     "metadata": {},
     "output_type": "execute_result"
    }
   ],
   "source": [
    "data.shape\n",
    "#共计53w行，15列数据"
   ]
  },
  {
   "cell_type": "code",
   "execution_count": 29,
   "metadata": {},
   "outputs": [],
   "source": [
    "data.reset_index(drop=True,inplace=True)"
   ]
  },
  {
   "cell_type": "code",
   "execution_count": 30,
   "metadata": {},
   "outputs": [],
   "source": [
    "#保存\n",
    "data.to_csv('data_clean.csv',index = False)"
   ]
  },
  {
   "cell_type": "code",
   "execution_count": 8,
   "metadata": {},
   "outputs": [],
   "source": [
    "df1 = pd.read_csv('data_clean.csv')"
   ]
  },
  {
   "cell_type": "code",
   "execution_count": 9,
   "metadata": {},
   "outputs": [
    {
     "name": "stdout",
     "output_type": "stream",
     "text": [
      "<class 'pandas.core.frame.DataFrame'>\n",
      "RangeIndex: 535065 entries, 0 to 535064\n",
      "Data columns (total 15 columns):\n",
      " #   Column         Non-Null Count   Dtype  \n",
      "---  ------         --------------   -----  \n",
      " 0   order_id       535065 non-null  int64  \n",
      " 1   product_id     535065 non-null  int64  \n",
      " 2   category_id    535065 non-null  int64  \n",
      " 3   category_code  535065 non-null  object \n",
      " 4   brand          535065 non-null  object \n",
      " 5   price          535065 non-null  float64\n",
      " 6   user_id        535065 non-null  int64  \n",
      " 7   age            535065 non-null  float64\n",
      " 8   sex            535065 non-null  object \n",
      " 9   local          535065 non-null  object \n",
      " 10  date           535065 non-null  object \n",
      " 11  month          535065 non-null  int64  \n",
      " 12  weekday        535065 non-null  int64  \n",
      " 13  buy_cnt        535065 non-null  int64  \n",
      " 14  amount         535065 non-null  float64\n",
      "dtypes: float64(3), int64(7), object(5)\n",
      "memory usage: 61.2+ MB\n"
     ]
    }
   ],
   "source": [
    "df1.info()"
   ]
  },
  {
   "cell_type": "code",
   "execution_count": 10,
   "metadata": {},
   "outputs": [
    {
     "data": {
      "text/plain": [
       "(535065, 15)"
      ]
     },
     "execution_count": 10,
     "metadata": {},
     "output_type": "execute_result"
    }
   ],
   "source": [
    "df1.shape"
   ]
  },
  {
   "cell_type": "code",
   "execution_count": null,
   "metadata": {},
   "outputs": [],
   "source": []
  }
 ],
 "metadata": {
  "kernelspec": {
   "display_name": "Python 3",
   "language": "python",
   "name": "python3"
  },
  "language_info": {
   "codemirror_mode": {
    "name": "ipython",
    "version": 3
   },
   "file_extension": ".py",
   "mimetype": "text/x-python",
   "name": "python",
   "nbconvert_exporter": "python",
   "pygments_lexer": "ipython3",
   "version": "3.7.3"
  }
 },
 "nbformat": 4,
 "nbformat_minor": 4
}
